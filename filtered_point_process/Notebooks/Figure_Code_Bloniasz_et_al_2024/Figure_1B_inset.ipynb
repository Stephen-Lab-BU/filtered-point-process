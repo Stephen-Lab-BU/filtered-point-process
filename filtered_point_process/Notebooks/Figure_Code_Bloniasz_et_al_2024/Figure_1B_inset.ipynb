{
 "cells": [
  {
   "cell_type": "markdown",
   "metadata": {},
   "source": [
    "## Insets for 1B in Bloniasz, Oyama, Stephen (2024)"
   ]
  },
  {
   "cell_type": "code",
   "execution_count": 49,
   "metadata": {},
   "outputs": [
    {
     "data": {
      "image/png": "[encoded data removed]",
      "text/plain": [
       "<Figure size 600x300 with 2 Axes>"
      ]
     },
     "metadata": {},
     "output_type": "display_data"
    }
   ],
   "source": [
    "import matplotlib.pyplot as plt\n",
    "import os\n",
    "import numpy as np\n",
    "from filtered_point_process.PointProcess import PointProcessModel\n",
    "from filtered_point_process.FPP import FilteredPointProcess\n",
    "\n",
    "# Setting Parameters\n",
    "params = {\n",
    "    'method': 'gaussian',\n",
    "    'peak_height': 100000,\n",
    "    'center_frequency': 1,\n",
    "    'peak_width': 0.1,\n",
    "    'fs': 1 / 0.0001,\n",
    "    'T': 2,\n",
    "    'Nsims': 1,\n",
    "    'lambda_0': [70]\n",
    "}\n",
    "model_1 = PointProcessModel(params = params, seed=45)\n",
    "model_1.simulate_pp()  \n",
    "\n",
    "# Define the filters to be used\n",
    "filters = {\n",
    "    'filter_1': 'AMPA'\n",
    "}\n",
    "\n",
    "# Instantiate the FilteredPointProcess class with the specified filters and model\n",
    "fpp = FilteredPointProcess(filters=filters, model=model_1)\n",
    "filter_outputs = fpp.get_filters()\n",
    "ampa_output = filter_outputs['filter_1']\n",
    "spike_times = model_1.pp_events\n",
    "kernel_time_axis = ampa_output[\"time_axis\"][:300]\n",
    "kernel = ampa_output[\"kernel\"][:300]\n",
    "\n",
    "# Create the figure and axis\n",
    "fig, (ax1, ax2) = plt.subplots(2, 1, figsize=(6, 3), gridspec_kw={'height_ratios': [0.5, 0.5]})\n",
    "\n",
    "# Plot the spike raster\n",
    "ax1.eventplot(spike_times, colors='red', linelengths=0.5)\n",
    "ax1.set_xlim([0, max(spike_times)])\n",
    "ax1.set_ylim([-1,4])\n",
    "ax1.set_xticks([])  \n",
    "ax1.set_yticks([]) \n",
    "ax1.spines['top'].set_visible(False)  \n",
    "ax1.spines['right'].set_visible(False)  \n",
    "ax1.spines['left'].set_visible(False)  \n",
    "ax1.spines['bottom'].set_visible(False)  \n",
    "\n",
    "# Plot the AMPA kernel\n",
    "ax2.plot(kernel_time_axis, 0.5 * kernel, color='red', lw=3)\n",
    "ax2.set_xlim([-0.1, 0.13])\n",
    "ax2.set_ylim([-1,1])\n",
    "ax2.set_xticks([])  \n",
    "ax2.set_yticks([])  \n",
    "ax2.spines['top'].set_visible(False)  \n",
    "ax2.spines['right'].set_visible(False)  \n",
    "ax2.spines['left'].set_visible(False)  \n",
    "ax2.spines['bottom'].set_visible(False)  \n",
    "\n",
    "# Adjust the layout\n",
    "plt.tight_layout()\n",
    "\n",
    "# Save the figure at 500 DPI\n",
    "##\n",
    "\n",
    "# Show the plot\n",
    "plt.show()\n"
   ]
  },
  {
   "cell_type": "code",
   "execution_count": 51,
   "metadata": {},
   "outputs": [
    {
     "data": {
      "image/png": "[encoded data removed]",
      "text/plain": [
       "<Figure size 1000x600 with 2 Axes>"
      ]
     },
     "metadata": {},
     "output_type": "display_data"
    }
   ],
   "source": [
    "# Setting Parameters\n",
    "params = {\n",
    "    'method': 'gaussian',\n",
    "    'peak_height': 100000,\n",
    "    'center_frequency': 1,\n",
    "    'peak_width': 0.1,\n",
    "    'fs': 1 / 0.0001,\n",
    "    'T': 2,\n",
    "    'Nsims': 1,\n",
    "    'lambda_0': [70]\n",
    "}\n",
    "model_1 = PointProcessModel(params = params, seed=46)\n",
    "model_1.simulate_pp()  # Simulate the CIF model for model_1\n",
    "\n",
    "# Define the filters to be used\n",
    "filters = {\n",
    "    'filter_1': 'GABA'\n",
    "}\n",
    "\n",
    "# Instantiate the FilteredPointProcess class with the specified filters and model\n",
    "fpp = FilteredPointProcess(filters=filters, model=model_1)\n",
    "filter_outputs = fpp.get_filters()\n",
    "ampa_output = filter_outputs['filter_1']\n",
    "spike_times = model_1.pp_events\n",
    "kernel_time_axis = ampa_output[\"time_axis\"][:500]\n",
    "kernel = ampa_output[\"kernel\"][:500]  \n",
    "\n",
    "\n",
    "\n",
    "# Create the figure and axis\n",
    "fig, (ax1, ax2) = plt.subplots(2, 1, figsize=(10, 6), gridspec_kw={'height_ratios': [1, 1]})\n",
    "\n",
    "# Plot the spike raster\n",
    "ax1.eventplot(spike_times, colors='blue')\n",
    "ax1.set_xlim([0, max(spike_times)])\n",
    "ax1.set_ylim([-3,3])\n",
    "ax1.set_xticks([])  # Hide x-axis ticks\n",
    "ax1.set_yticks([])  # Hide y-axis ticks\n",
    "ax1.spines['top'].set_visible(False)  # Hide top border\n",
    "ax1.spines['right'].set_visible(False)  # Hide right border\n",
    "ax1.spines['left'].set_visible(False)  # Hide left border\n",
    "ax1.spines['bottom'].set_visible(False)  # Hide bottom border\n",
    "\n",
    "# Plot the AMPA kernel\n",
    "ax2.plot(kernel_time_axis, kernel, color='blue', lw=3)\n",
    "ax2.set_xlim([-0.2, 0.2])\n",
    "ax2.set_ylim([-3,3])\n",
    "ax2.set_xticks([])  # Hide x-axis ticks\n",
    "ax2.set_yticks([])  # Hide y-axis ticks\n",
    "ax2.spines['top'].set_visible(False)  # Hide top border\n",
    "ax2.spines['right'].set_visible(False)  # Hide right border\n",
    "ax2.spines['left'].set_visible(False)  # Hide left border\n",
    "ax2.spines['bottom'].set_visible(False)  \n",
    "\n",
    "# Adjust the layout\n",
    "plt.tight_layout()\n",
    "\n",
    "# Save the figure at 500 DPI\n",
    "###\n",
    "\n",
    "# Show the plot\n",
    "plt.show()\n"
   ]
  }
 ],
 "metadata": {
  "kernelspec": {
   "display_name": "FilteredPointProcess",
   "language": "python",
   "name": "python3"
  },
  "language_info": {
   "codemirror_mode": {
    "name": "ipython",
    "version": 3
   },
   "file_extension": ".py",
   "mimetype": "text/x-python",
   "name": "python",
   "nbconvert_exporter": "python",
   "pygments_lexer": "ipython3",
   "version": "3.7.12"
  }
 },
 "nbformat": 4,
 "nbformat_minor": 2
}
